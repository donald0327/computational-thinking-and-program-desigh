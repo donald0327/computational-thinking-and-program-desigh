{
  "nbformat": 4,
  "nbformat_minor": 0,
  "metadata": {
    "colab": {
      "name": "Untitled3.ipynb",
      "provenance": [],
      "authorship_tag": "ABX9TyM/8AgLV2JJ8/DSLOn/j8ja",
      "include_colab_link": true
    },
    "kernelspec": {
      "name": "python3",
      "display_name": "Python 3"
    }
  },
  "cells": [
    {
      "cell_type": "markdown",
      "metadata": {
        "id": "view-in-github",
        "colab_type": "text"
      },
      "source": [
        "<a href=\"https://colab.research.google.com/github/donald0327/computational-thinking-and-program-desigh/blob/master/A108060048%20%E6%9C%B1%E4%BA%AE%E7%B8%88%20%E6%9C%9F%E6%9C%AB%E5%A0%B1%E5%91%8A.ipynb\" target=\"_parent\"><img src=\"https://colab.research.google.com/assets/colab-badge.svg\" alt=\"Open In Colab\"/></a>"
      ]
    },
    {
      "cell_type": "code",
      "metadata": {
        "id": "PFALyRcJUTvj",
        "colab_type": "code",
        "colab": {}
      },
      "source": [
        ""
      ],
      "execution_count": null,
      "outputs": []
    },
    {
      "cell_type": "code",
      "metadata": {
        "id": "FAPALMY6UCNU",
        "colab_type": "code",
        "colab": {
          "base_uri": "https://localhost:8080/",
          "height": 306
        },
        "outputId": "9bbb8792-b43d-4573-979a-8c4ea140b791"
      },
      "source": [
        "step1=input(\"您好，我是點餐機器人Bella878，歡迎光臨master donuts，今天有蜜糖波堤和豆香波堤，您要點什麼呢?\")\n",
        "    \n",
        "while True:\n",
        "    step2=input(\"好的，有需要加購飲料嗎(有/沒有)?\")\n",
        "    if step2==\"有\":        \n",
        "        while True:\n",
        "            step3=input(\"有紅茶和鮮奶茶，請問你需要什麼?\")\n",
        "            if step3==\"紅茶\" or step3==\"鮮奶茶\":                \n",
        "                while True:\n",
        "                    step4=input(\"好的，甜度需要調整嗎(無糖/微糖/半糖/少糖/全糖)?\")\n",
        "                    if step4==\"無糖\" or step4==\"微糖\" or step4==\"半糖\" or step4==\"少糖\" or step4==\"全糖\":\n",
        "                        while True:\n",
        "                            step5=input(\"好的，冰塊需要調整嗎(完全去冰/去冰/微冰/少冰/正常冰)?\")\n",
        "                        \n",
        "                            if step5==\"完全去冰\" or step5==\"去冰\" or step5==\"微冰\" or step5==\"少冰\" or step5==\"正常冰\":\n",
        "                                step2=\"您加購的飲料為:\"+step3+\" \"+step4+\" \"+step5+\"\\n\"\n",
        "                                break\n",
        "                            else:\n",
        "                                print(\"無此選項，請重新輸入\")\n",
        "                        break\n",
        "                    else:\n",
        "                        print(\"無此選項，請重新輸入\")\n",
        "                break\n",
        "            else:\n",
        "                print(\"無此選項，請重新輸入\")\n",
        "        break\n",
        "    elif step2==\"沒有\":\n",
        "        step2=\"沒有加購飲料\"\n",
        "        break\n",
        "    else:\n",
        "        print(\"無此選項，請重新輸入\")\n",
        "        \n",
        "while True:\n",
        "    step6=input(\"好的，需要紙巾嗎(要/不要)?\")\n",
        "    if step6==\"要\":\n",
        "        step6=\"需要紙巾\"\n",
        "        break\n",
        "    elif step6==\"不要\":\n",
        "        step6=\"不需要紙巾\"\n",
        "        break\n",
        "    else:\n",
        "        print(\"無此選項，請重新輸入\")\n",
        "\n",
        "while True:\n",
        "    step7=input(\"好的，需要紙袋嗎(要/不要)?\")\n",
        "    if step7==\"要\":\n",
        "        step7=\"需要紙袋\"\n",
        "        break\n",
        "    elif step7==\"不要\":\n",
        "        step7=\"不需要紙袋\"\n",
        "        break\n",
        "    else:\n",
        "        print(\"無此選項，請重新輸入\")\n",
        "\n",
        "while True:\n",
        "    step8=input(\"好的，請問需要統編嗎(要/不要)?\")\n",
        "    if step8==\"要\":        \n",
        "        while True:\n",
        "            step8=input(\"請輸入您的統編:\")\n",
        "            if len(step8)==8:\n",
        "                step9=\"統編號碼為:\"+step8\n",
        "                break\n",
        "            else:\n",
        "                print(\"統編長度不正確，請重新輸入\")            \n",
        "        break\n",
        "    elif step8==\"不要\":\n",
        "        step9=\"不需要統編\"\n",
        "        break\n",
        "    else:\n",
        "        print(\"無此選項，請重新輸入\")\n",
        "\n",
        "while True:\n",
        "    step10=input(\"好的，請問需要載具嗎(要/不要)?\")\n",
        "    if step10==\"要\":\n",
        "        step10=\"不需要載具\"\n",
        "        break\n",
        "    elif step10==\"不要\":\n",
        "        step10=\"不需要載具\"\n",
        "        break\n",
        "    else:\n",
        "        print(\"無此選項，請重新輸入\")\n",
        "print(\"好的，您點的餐點為:\\n\"+step1+\"\\n\"+step2+step6+\"\\n\"+step7+\"\\n\"+step9+\"\\n\"+step10)\n",
        "print(\"刷卡請於右下方感應，現今請至櫃台結帳，希望很快能再度為您服務\")"
      ],
      "execution_count": 2,
      "outputs": [
        {
          "output_type": "stream",
          "text": [
            "您好，我是點餐機器人Bella878，歡迎光臨master donuts，今天有蜜糖波堤和豆香波堤，您要點什麼呢?蜜糖波提\n",
            "好的，有需要加購飲料嗎(有/沒有)?有\n",
            "有紅茶和鮮奶茶，請問你需要什麼?鮮奶茶\n",
            "好的，甜度需要調整嗎(無糖/微糖/半糖/少糖/全糖)?半糖\n",
            "好的，冰塊需要調整嗎(完全去冰/去冰/微冰/少冰/正常冰)?微冰\n",
            "好的，需要紙巾嗎(要/不要)?要\n",
            "好的，需要紙袋嗎(要/不要)?要\n",
            "好的，請問需要統編嗎(要/不要)?不要\n",
            "好的，請問需要載具嗎(要/不要)?要\n",
            "好的，您點的餐點為:\n",
            "蜜糖波提\n",
            "您加購的飲料為:鮮奶茶 半糖 微冰\n",
            "需要紙巾\n",
            "需要紙袋\n",
            "不需要統編\n",
            "不需要載具\n",
            "刷卡請於右下方感應，現今請至櫃台結帳，希望很快能再度為您服務\n"
          ],
          "name": "stdout"
        }
      ]
    }
  ]
}