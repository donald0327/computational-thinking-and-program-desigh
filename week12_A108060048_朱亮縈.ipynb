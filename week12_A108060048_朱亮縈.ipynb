{
  "nbformat": 4,
  "nbformat_minor": 0,
  "metadata": {
    "colab": {
      "name": "week12-A108060002-陳少綦.ipynb",
      "provenance": [],
      "authorship_tag": "ABX9TyMzrqhn6qvtZM05IRsDPscK",
      "include_colab_link": true
    },
    "kernelspec": {
      "name": "python3",
      "display_name": "Python 3"
    }
  },
  "cells": [
    {
      "cell_type": "markdown",
      "metadata": {
        "id": "view-in-github",
        "colab_type": "text"
      },
      "source": [
        "<a href=\"https://colab.research.google.com/github/donald0327/computational-thinking-and-program-desigh/blob/master/week12_A108060048_%E6%9C%B1%E4%BA%AE%E7%B8%88.ipynb\" target=\"_parent\"><img src=\"https://colab.research.google.com/assets/colab-badge.svg\" alt=\"Open In Colab\"/></a>"
      ]
    },
    {
      "cell_type": "code",
      "metadata": {
        "id": "_ZZFctkNWBz8",
        "colab_type": "code",
        "outputId": "42342776-57cf-4132-b9bf-1521bde7ea60",
        "colab": {
          "base_uri": "https://localhost:8080/",
          "height": 85
        }
      },
      "source": [
        "noodle = input(\"有麵嗎？(YES/NO)\")\n",
        "sauce = input(\"有醬料嗎?(YES/NO)\")\n",
        "if noodle == \"YES\" and sauce ==\"YES\":\n",
        "  print(\"今晚吃義大利麵\")\n",
        "  print(\"well done!\")"
      ],
      "execution_count": 0,
      "outputs": [
        {
          "output_type": "stream",
          "text": [
            "有麵嗎？(YES/NO)YES\n",
            "有醬料嗎?(YES/NO)YES\n",
            "今晚吃義大利麵\n",
            "well done!\n"
          ],
          "name": "stdout"
        }
      ]
    },
    {
      "cell_type": "code",
      "metadata": {
        "id": "8A7AEEvJYLAV",
        "colab_type": "code",
        "outputId": "123bc90b-0176-45af-f6c8-77f11213a843",
        "colab": {
          "base_uri": "https://localhost:8080/",
          "height": 85
        }
      },
      "source": [
        "noodle = input(\"有麵嗎? (YES/NO)\")\n",
        "sauce = input(\"有醬料嗎?(YES/NO)\")\n",
        "if noodle ==\"YES\":\n",
        "    if sauce == \"YES\":\n",
        "     print(\"可做義大利麵!\")\n",
        "print(\"Well done!\")\n"
      ],
      "execution_count": 0,
      "outputs": [
        {
          "output_type": "stream",
          "text": [
            "有麵嗎? (YES/NO)YES\n",
            "有醬料嗎?(YES/NO)YES\n",
            "可做義大利麵!\n",
            "Well done!\n"
          ],
          "name": "stdout"
        }
      ]
    },
    {
      "cell_type": "code",
      "metadata": {
        "id": "HYny2lKubUwR",
        "colab_type": "code",
        "outputId": "f263f74b-4896-40de-ec26-cfc9e7f40ba4",
        "colab": {
          "base_uri": "https://localhost:8080/",
          "height": 102
        }
      },
      "source": [
        "num_1 = int(input(\"Enter a number: \"))\n",
        "num_2 = int(input(\"Enter a number: \"))\n",
        "if num_1 == 6:\n",
        "     print(\"Great,what a number!\")\n",
        "     if num_2 == 14:\n",
        "         print(\"Wonderful, I win.\")\n",
        "print(\"End\")"
      ],
      "execution_count": 19,
      "outputs": [
        {
          "output_type": "stream",
          "text": [
            "Enter a number: 6\n",
            "Enter a number: 14\n",
            "Great,what a number!\n",
            "Wonderful, I win.\n",
            "End\n"
          ],
          "name": "stdout"
        }
      ]
    },
    {
      "cell_type": "code",
      "metadata": {
        "id": "ab2JYSGshCl-",
        "colab_type": "code",
        "colab": {
          "base_uri": "https://localhost:8080/",
          "height": 68
        },
        "outputId": "aec9b071-35f8-4a49-fd93-324c509a0b35"
      },
      "source": [
        "num = input(\"Enter a number: \")\n",
        "num = int(num)\n",
        "if num > 0:\n",
        "    print(\"Positive number\")\n",
        "if num < 0:\n",
        "    print(\"Negative number\")\n",
        "if num == 0:\n",
        "    print(\"zero\")\n",
        "print(\"End\")"
      ],
      "execution_count": 20,
      "outputs": [
        {
          "output_type": "stream",
          "text": [
            "Enter a number: 87\n",
            "Positive number\n",
            "End\n"
          ],
          "name": "stdout"
        }
      ]
    }
  ]
}