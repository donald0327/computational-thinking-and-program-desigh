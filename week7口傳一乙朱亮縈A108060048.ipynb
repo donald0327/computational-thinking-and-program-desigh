{
  "nbformat": 4,
  "nbformat_minor": 0,
  "metadata": {
    "colab": {
      "name": "week7口傳一乙朱亮縈A108060048",
      "provenance": [],
      "collapsed_sections": [],
      "authorship_tag": "ABX9TyNSEdP5Gx5mAuxvLczWBimI",
      "include_colab_link": true
    },
    "kernelspec": {
      "name": "python3",
      "display_name": "Python 3"
    }
  },
  "cells": [
    {
      "cell_type": "markdown",
      "metadata": {
        "id": "view-in-github",
        "colab_type": "text"
      },
      "source": [
        "<a href=\"https://colab.research.google.com/github/donald0327/computational-thinking-and-program-desigh/blob/master/week7%E5%8F%A3%E5%82%B3%E4%B8%80%E4%B9%99%E6%9C%B1%E4%BA%AE%E7%B8%88A108060048.ipynb\" target=\"_parent\"><img src=\"https://colab.research.google.com/assets/colab-badge.svg\" alt=\"Open In Colab\"/></a>"
      ]
    },
    {
      "cell_type": "code",
      "metadata": {
        "id": "KKiS_XIo4i0g",
        "colab_type": "code",
        "colab": {
          "base_uri": "https://localhost:8080/",
          "height": 153
        },
        "outputId": "d8b406b8-02af-4745-b333-5c4d115d7776"
      },
      "source": [
        "Tv_shows='梨泰院class'#電視名稱\n",
        "Episode='16集'#集數\n",
        "Director='金成允'#導演\n",
        "Release_year='2020'#上映時間\n",
        "Language='韓文'#語言\n",
        "Ratings='11.832%'#收視率\n",
        "Main_actor='朴敘俊'#男主角\n",
        "Main_actress='金多美'#女主角\n",
        "print(Tv_shows)\n",
        "print(Episode)\n",
        "print(Director)\n",
        "print(Release_year)\n",
        "print(Language)\n",
        "print(Ratings)\n",
        "print(Main_actor)\n",
        "print(Main_actress)"
      ],
      "execution_count": 5,
      "outputs": [
        {
          "output_type": "stream",
          "text": [
            "梨泰院class\n",
            "16集\n",
            "金成允\n",
            "2020\n",
            "韓文\n",
            "11.832%\n",
            "朴敘俊\n",
            "金多美\n"
          ],
          "name": "stdout"
        }
      ]
    }
  ]
}