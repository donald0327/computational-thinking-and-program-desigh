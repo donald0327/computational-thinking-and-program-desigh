{
  "nbformat": 4,
  "nbformat_minor": 0,
  "metadata": {
    "kernelspec": {
      "display_name": "Python 3",
      "language": "python",
      "name": "python3"
    },
    "language_info": {
      "codemirror_mode": {
        "name": "ipython",
        "version": 3
      },
      "file_extension": ".py",
      "mimetype": "text/x-python",
      "name": "python",
      "nbconvert_exporter": "python",
      "pygments_lexer": "ipython3",
      "version": "3.7.4"
    },
    "colab": {
      "name": "Basic Python複習.ipynb",
      "provenance": [],
      "include_colab_link": true
    }
  },
  "cells": [
    {
      "cell_type": "markdown",
      "metadata": {
        "id": "view-in-github",
        "colab_type": "text"
      },
      "source": [
        "<a href=\"https://colab.research.google.com/github/donald0327/computational-thinking-and-program-desigh/blob/master/week10-A108060048-%E6%9C%B1%E4%BA%AE%E7%B8%88Basic_Python%E8%A4%87%E7%BF%92.ipynb\" target=\"_parent\"><img src=\"https://colab.research.google.com/assets/colab-badge.svg\" alt=\"Open In Colab\"/></a>"
      ]
    },
    {
      "cell_type": "markdown",
      "metadata": {
        "id": "sN926QvsGUXO",
        "colab_type": "text"
      },
      "source": [
        "### LBD 1: 請設計一個程式計算圓面積與圓周長，依輸入的半徑計算圓面積與圓周長。"
      ]
    },
    {
      "cell_type": "code",
      "metadata": {
        "id": "2-slz5kVGUXP",
        "colab_type": "code",
        "colab": {}
      },
      "source": [
        ""
      ],
      "execution_count": 0,
      "outputs": []
    },
    {
      "cell_type": "markdown",
      "metadata": {
        "id": "oOcVBQ0qGUXS",
        "colab_type": "text"
      },
      "source": [
        "### LBD 2: 請設計一個程式將輸入的攝氏溫度轉成華氏溫度，轉換公式如下:華氏溫度= 攝氏溫度*9/5+32"
      ]
    },
    {
      "cell_type": "code",
      "metadata": {
        "id": "I2-ot2oLGUXT",
        "colab_type": "code",
        "colab": {}
      },
      "source": [
        ""
      ],
      "execution_count": 0,
      "outputs": []
    },
    {
      "cell_type": "markdown",
      "metadata": {
        "id": "c14IvE9CGUXY",
        "colab_type": "text"
      },
      "source": [
        "### LBD 3: 假設上衣300元、褲子350元與背心400元，使用者可以自行輸入三種服裝的數量，請設計一個程式計算訂購服裝的總金額。"
      ]
    },
    {
      "cell_type": "code",
      "metadata": {
        "id": "2LaEyo0eGUXZ",
        "colab_type": "code",
        "colab": {}
      },
      "source": [
        ""
      ],
      "execution_count": 0,
      "outputs": []
    },
    {
      "cell_type": "markdown",
      "metadata": {
        "id": "fRsgdKMxGUXc",
        "colab_type": "text"
      },
      "source": [
        "### LBD 4: 為了刺激銷售量，賣場通常買一打會比買一罐便宜，假設一罐賣20元，一打賣200元，請設計一個程式計算買幾罐需花多少錢，若不足一打就個別買。"
      ]
    },
    {
      "cell_type": "code",
      "metadata": {
        "id": "HAqDX3vrGUXd",
        "colab_type": "code",
        "colab": {
          "base_uri": "https://localhost:8080/",
          "height": 51
        },
        "outputId": "1bc74422-ec53-40e6-e5f4-0efc096e5e3e"
      },
      "source": [
        "h =(int(input(\"請輸入購買數量:\")))\n",
        "一打 =(h//12)\n",
        "未足一打 =(h%12)\n",
        "總金額 = (一打*200+未足一打*20)\n",
        "print(\"購買總金額為\" ,總金額)"
      ],
      "execution_count": 1,
      "outputs": [
        {
          "output_type": "stream",
          "text": [
            "請輸入購買數量:100\n",
            "購買總金額為 1680\n"
          ],
          "name": "stdout"
        }
      ]
    },
    {
      "cell_type": "markdown",
      "metadata": {
        "id": "D2HCggJ1GUXf",
        "colab_type": "text"
      },
      "source": [
        "### LBD 5: 請輸入第一次期中考、第二次期中考與期末考成績，成績皆為整數，請計算分數的加總與平均。"
      ]
    },
    {
      "cell_type": "code",
      "metadata": {
        "id": "-mLPMTskGUXg",
        "colab_type": "code",
        "colab": {
          "base_uri": "https://localhost:8080/",
          "height": 102
        },
        "outputId": "7fb5998e-5168-41e2-cd2d-6d5ec2b43bde"
      },
      "source": [
        "第一次期中考成績 = int(input(\"請輸入第一次期中考成績\"))\n",
        "第二次期中考成績 = int(input(\"請輸入第二次期中考成績\"))\n",
        "期末考成績 = int(input(\"請輸入期末考成績\"))\n",
        "加總 =(第一次期中考成績+第二次期中考成績+期末考成績)\n",
        "平均 =(第一次期中考成績 + 第二次期中考成績 + 期末考成績)//3\n",
        "print('分數加總為', 加總)\n",
        "print('分數平均為', 平均)"
      ],
      "execution_count": 2,
      "outputs": [
        {
          "output_type": "stream",
          "text": [
            "請輸入第一次期中考成績87\n",
            "請輸入第二次期中考成績78\n",
            "請輸入期末考成績60\n",
            "分數加總為 225\n",
            "分數平均為 75\n"
          ],
          "name": "stdout"
        }
      ]
    },
    {
      "cell_type": "code",
      "metadata": {
        "id": "e-L1lgz4GUXj",
        "colab_type": "code",
        "colab": {
          "base_uri": "https://localhost:8080/",
          "height": 51
        },
        "outputId": "d9e788e2-ccf0-44cb-ea86-18f5e537565b"
      },
      "source": [
        "座號=int(input('請輸入座號'))#文字轉數字\n",
        "組別=(座號-1)//5+1\n",
        "print('組別為',組別)"
      ],
      "execution_count": 4,
      "outputs": [
        {
          "output_type": "stream",
          "text": [
            "請輸入座號48\n",
            "組別為 10\n"
          ],
          "name": "stdout"
        }
      ]
    }
  ]
}