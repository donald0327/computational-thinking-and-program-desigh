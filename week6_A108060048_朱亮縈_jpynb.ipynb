{
  "nbformat": 4,
  "nbformat_minor": 0,
  "metadata": {
    "colab": {
      "name": "week6-A108060048-朱亮縈.jpynb",
      "provenance": [],
      "authorship_tag": "ABX9TyPn9I1t96TB0f0TnvtDvfIE",
      "include_colab_link": true
    },
    "kernelspec": {
      "name": "python3",
      "display_name": "Python 3"
    }
  },
  "cells": [
    {
      "cell_type": "markdown",
      "metadata": {
        "id": "view-in-github",
        "colab_type": "text"
      },
      "source": [
        "<a href=\"https://colab.research.google.com/github/donald0327/computational-thinking-and-program-desigh/blob/master/week6_A108060048_%E6%9C%B1%E4%BA%AE%E7%B8%88_jpynb.ipynb\" target=\"_parent\"><img src=\"https://colab.research.google.com/assets/colab-badge.svg\" alt=\"Open In Colab\"/></a>"
      ]
    },
    {
      "cell_type": "code",
      "metadata": {
        "id": "LdC9Tv-1kX64",
        "colab_type": "code",
        "colab": {
          "base_uri": "https://localhost:8080/",
          "height": 34
        },
        "outputId": "3a05bd7e-eb96-4ffb-9bc7-842b49a97efe"
      },
      "source": [
        "print(\"朱亮縈\")"
      ],
      "execution_count": 1,
      "outputs": [
        {
          "output_type": "stream",
          "text": [
            "朱亮縈\n"
          ],
          "name": "stdout"
        }
      ]
    },
    {
      "cell_type": "code",
      "metadata": {
        "id": "NWTFUuDkknFm",
        "colab_type": "code",
        "colab": {
          "base_uri": "https://localhost:8080/",
          "height": 51
        },
        "outputId": "98551023-a999-4a00-e200-c1301b38866f"
      },
      "source": [
        "name=\"朱亮縈\"\n",
        "print(type(name))\n",
        "print(\"我的名字是\",name)"
      ],
      "execution_count": 2,
      "outputs": [
        {
          "output_type": "stream",
          "text": [
            "<class 'str'>\n",
            "我的名字是 朱亮縈\n"
          ],
          "name": "stdout"
        }
      ]
    },
    {
      "cell_type": "code",
      "metadata": {
        "id": "pQH0Os2QpJwG",
        "colab_type": "code",
        "colab": {
          "base_uri": "https://localhost:8080/",
          "height": 51
        },
        "outputId": "20c24fb6-968e-4016-91ec-0fbd6aa2ee0f"
      },
      "source": [
        "name=input(\"請輸入你的名字\")\n",
        "print(\"名字為\",name)"
      ],
      "execution_count": 3,
      "outputs": [
        {
          "output_type": "stream",
          "text": [
            "請輸入你的名字朱亮縈\n",
            "名字為 朱亮縈\n"
          ],
          "name": "stdout"
        }
      ]
    },
    {
      "cell_type": "code",
      "metadata": {
        "id": "NVh0RA81pvMo",
        "colab_type": "code",
        "colab": {
          "base_uri": "https://localhost:8080/",
          "height": 34
        },
        "outputId": "ef416428-3b2e-4cf5-daf9-c957d0a01179"
      },
      "source": [
        "print(19)"
      ],
      "execution_count": 4,
      "outputs": [
        {
          "output_type": "stream",
          "text": [
            "19\n"
          ],
          "name": "stdout"
        }
      ]
    },
    {
      "cell_type": "code",
      "metadata": {
        "id": "mu2X3oVKpz5-",
        "colab_type": "code",
        "colab": {
          "base_uri": "https://localhost:8080/",
          "height": 34
        },
        "outputId": "1f8ea559-d83c-4ce4-e896-21b70d7aecc6"
      },
      "source": [
        "age=19\n",
        "print(\"我的年紀是\",age,\"歲\")"
      ],
      "execution_count": 5,
      "outputs": [
        {
          "output_type": "stream",
          "text": [
            "我的年紀是 19 歲\n"
          ],
          "name": "stdout"
        }
      ]
    },
    {
      "cell_type": "code",
      "metadata": {
        "id": "GMXA7IUYrI6y",
        "colab_type": "code",
        "colab": {
          "base_uri": "https://localhost:8080/",
          "height": 51
        },
        "outputId": "c3f3232d-bb98-42bc-e2b4-ff8289839782"
      },
      "source": [
        "age=input(\"請輸入你的年紀\")\n",
        "print(\"年紀是\",age,\"歲\")"
      ],
      "execution_count": 6,
      "outputs": [
        {
          "output_type": "stream",
          "text": [
            "請輸入你的年紀19\n",
            "年紀是 19 歲\n"
          ],
          "name": "stdout"
        }
      ]
    },
    {
      "cell_type": "code",
      "metadata": {
        "id": "FUeKjkqxrPRK",
        "colab_type": "code",
        "colab": {
          "base_uri": "https://localhost:8080/",
          "height": 34
        },
        "outputId": "845cd74e-838b-4f6f-fc25-87e92a3774db"
      },
      "source": [
        "print(49)"
      ],
      "execution_count": 7,
      "outputs": [
        {
          "output_type": "stream",
          "text": [
            "49\n"
          ],
          "name": "stdout"
        }
      ]
    },
    {
      "cell_type": "code",
      "metadata": {
        "id": "EpPDflSerfAo",
        "colab_type": "code",
        "colab": {
          "base_uri": "https://localhost:8080/",
          "height": 34
        },
        "outputId": "8ede151c-af55-4b8f-d3ca-b7ee91f62097"
      },
      "source": [
        "weight=49\n",
        "print(\"我的體重是\",weight,\"公斤\")"
      ],
      "execution_count": 8,
      "outputs": [
        {
          "output_type": "stream",
          "text": [
            "我的體重是 49 公斤\n"
          ],
          "name": "stdout"
        }
      ]
    },
    {
      "cell_type": "code",
      "metadata": {
        "id": "0Fh-RYaNr7Tr",
        "colab_type": "code",
        "colab": {
          "base_uri": "https://localhost:8080/",
          "height": 51
        },
        "outputId": "f9183508-04da-4275-fff0-4dd7e21d9f04"
      },
      "source": [
        "weight=input(\"請輸入你的體重\")\n",
        "print(\"體重為\",weight,\"公斤\")"
      ],
      "execution_count": 9,
      "outputs": [
        {
          "output_type": "stream",
          "text": [
            "請輸入你的體重49\n",
            "體重為 49 公斤\n"
          ],
          "name": "stdout"
        }
      ]
    }
  ]
}